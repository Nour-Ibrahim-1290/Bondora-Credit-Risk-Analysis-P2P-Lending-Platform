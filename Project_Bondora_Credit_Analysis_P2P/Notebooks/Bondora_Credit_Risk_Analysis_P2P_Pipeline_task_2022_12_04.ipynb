{
 "cells": [
  {
   "cell_type": "markdown",
   "metadata": {},
   "source": [
    "### Notebook Preperation:"
   ]
  },
  {
   "cell_type": "code",
   "execution_count": 1,
   "metadata": {},
   "outputs": [],
   "source": [
    "import pandas as pd\n",
    "import numpy as np\n",
    "import warnings\n",
    "import matplotlib.pyplot as plt\n",
    "import seaborn as sns\n",
    "import pickle\n",
    "\n",
    "sns.set()\n",
    "warnings.filterwarnings('ignore')"
   ]
  },
  {
   "cell_type": "code",
   "execution_count": 2,
   "metadata": {},
   "outputs": [],
   "source": [
    "from sklearn.preprocessing import StandardScaler\n",
    "from sklearn.decomposition import PCA\n",
    "from sklearn.metrics import accuracy_score, classification_report, confusion_matrix, r2_score\n",
    "from sklearn.model_selection import train_test_split\n",
    "from sklearn.linear_model import LogisticRegression, Ridge\n",
    "from sklearn.pipeline import Pipeline"
   ]
  },
  {
   "cell_type": "markdown",
   "metadata": {},
   "source": [
    "---"
   ]
  },
  {
   "cell_type": "code",
   "execution_count": 3,
   "metadata": {},
   "outputs": [],
   "source": [
    "pd.set_option('display.max_columns', None)"
   ]
  },
  {
   "cell_type": "markdown",
   "metadata": {},
   "source": [
    "---"
   ]
  },
  {
   "cell_type": "markdown",
   "metadata": {},
   "source": [
    "### Loading Data, Creating Target variable, and Preprocessing:"
   ]
  },
  {
   "cell_type": "markdown",
   "metadata": {},
   "source": [
    "**Loading data**"
   ]
  },
  {
   "cell_type": "code",
   "execution_count": 4,
   "metadata": {},
   "outputs": [
    {
     "name": "stdout",
     "output_type": "stream",
     "text": [
      "0\n"
     ]
    },
    {
     "data": {
      "text/plain": [
       "Index(['BidsPortfolioManager', 'BidsApi', 'BidsManual', 'NewCreditCustomer',\n",
       "       'VerificationType', 'LanguageCode', 'Age', 'Gender', 'Country',\n",
       "       'AppliedAmount', 'Amount', 'Interest', 'LoanDuration', 'MonthlyPayment',\n",
       "       'UseOfLoan', 'Education', 'MaritalStatus', 'EmploymentStatus',\n",
       "       'EmploymentDurationCurrentEmployer', 'OccupationArea',\n",
       "       'HomeOwnershipType', 'IncomeTotal', 'ExistingLiabilities',\n",
       "       'LiabilitiesTotal', 'RefinanceLiabilities', 'DebtToIncome', 'FreeCash',\n",
       "       'Rating', 'Restructured', 'CreditScoreEsMicroL',\n",
       "       'PrincipalPaymentsMade', 'InterestAndPenaltyPaymentsMade',\n",
       "       'PrincipalBalance', 'InterestAndPenaltyBalance',\n",
       "       'NoOfPreviousLoansBeforeLoan', 'AmountOfPreviousLoansBeforeLoan',\n",
       "       'PreviousRepaymentsBeforeLoan',\n",
       "       'PreviousEarlyRepaymentsCountBeforeLoan', 'LoanStatus'],\n",
       "      dtype='object')"
      ]
     },
     "execution_count": 4,
     "metadata": {},
     "output_type": "execute_result"
    }
   ],
   "source": [
    "loan_data = pd.read_csv('Bondora_preprocessed.csv')\n",
    "\n",
    "print(loan_data.isnull().sum().sum())\n",
    "loan_data.columns"
   ]
  },
  {
   "cell_type": "markdown",
   "metadata": {},
   "source": [
    "#### **Creating Target Variables**"
   ]
  },
  {
   "cell_type": "markdown",
   "metadata": {},
   "source": [
    "**Calculating LoanTenure**"
   ]
  },
  {
   "cell_type": "code",
   "execution_count": 5,
   "metadata": {},
   "outputs": [],
   "source": [
    "# Load raw data\n",
    "row_data = pd.read_csv('Bondora_raw.csv')\n",
    "\n",
    "# Filter the for Status = Repaid or Late\n",
    "row_data = row_data[row_data['Status'].isin(['Repaid', 'Late'])]\n",
    "\n",
    "# Choose only needed columns to calculate loan tenure\n",
    "row_data = row_data[['MaturityDate_Original', 'LoanDate']]"
   ]
  },
  {
   "cell_type": "code",
   "execution_count": 6,
   "metadata": {},
   "outputs": [],
   "source": [
    "# Convert date columns into datetime objects\n",
    "for col in row_data.columns.values:\n",
    "    row_data[col] = pd.to_datetime(row_data[col])\n",
    "\n",
    "# Calculate LoanTenure\n",
    "row_data['LoanTenure'] = ((row_data['MaturityDate_Original'].dt.year - row_data['LoanDate'].dt.year)*12 +\\\n",
    "     (row_data['MaturityDate_Original'].dt.month - row_data['LoanDate'].dt.month))\n",
    "\n",
    "# Set that column in loan_data\n",
    "loan_data['LoanTenure'] = row_data['LoanTenure'].values\n",
    "\n",
    "# Drop LoanDuration as it has errors\n",
    "loan_data = loan_data.drop('LoanDuration', axis=1)"
   ]
  },
  {
   "cell_type": "markdown",
   "metadata": {},
   "source": [
    "I. Equaty Monthly Installments (EMI)"
   ]
  },
  {
   "cell_type": "code",
   "execution_count": 7,
   "metadata": {},
   "outputs": [],
   "source": [
    "def cal_EMI(P, r, n):\n",
    "  P = P.values\n",
    "  r = r.values\n",
    "  n = n.values\n",
    "  #print(P.shape[0])\n",
    "  result_1 = np.empty(0)\n",
    "  result_2 = np.empty(0)\n",
    "  result = np.empty(0)\n",
    "  for i in range(P.shape[0]):\n",
    "    #print(P[i])\n",
    "    #print(r[i])\n",
    "    #print(n[i])\n",
    "    # EMI = P × r × (1 + r) ^ n / ((1 + r) ^ n – 1)\n",
    "    #print(P[i] * (1 + r[i]))\n",
    "    result_1 = np.append(result_1, P[i] * r[i] * np.power((1 + r[i]),n[i]))\n",
    "    result_2 = np.append(result_2, np.power((1 + r[i]),n[i]) - 1)\n",
    "    result = np.append(result, (result_1[i] / result_2[i]))\n",
    "\n",
    "  return result"
   ]
  },
  {
   "cell_type": "code",
   "execution_count": 8,
   "metadata": {},
   "outputs": [],
   "source": [
    "loan_data['EMI'] = cal_EMI(loan_data['Amount'], loan_data['Interest']/100, loan_data['LoanTenure'])"
   ]
  },
  {
   "cell_type": "markdown",
   "metadata": {},
   "source": [
    "II. Eligible Loan Amount (ELA)"
   ]
  },
  {
   "cell_type": "code",
   "execution_count": 10,
   "metadata": {},
   "outputs": [],
   "source": [
    "def eligible_loan_amnt(df):\n",
    "  df['Ava_Inc'] = ((df['IncomeTotal']-df['LiabilitiesTotal'])*0.3) * df['LoanTenure']\n",
    "  df['Total_Loan_Amnt'] = np.round((df['AppliedAmount'] + (df['AppliedAmount'] * df['Interest']) /100)*df['LoanTenure'])\n",
    "  #Ava_Inc = df['Ava_Inc'].values\n",
    "  #Total_Loan_Amnt = df['Total_Loan_Amnt'].values\n",
    "  ELA = np.empty(0)\n",
    "  for i in range(len(df['Ava_Inc'].values)):\n",
    "    if df['Ava_Inc'].iloc[i] <= 0:\n",
    "      ELA = np.append(ELA, 0)\n",
    "    elif df['Total_Loan_Amnt'].iloc[i] <= df['Ava_Inc'].iloc[i]:\n",
    "      ELA = np.append(ELA, df['Total_Loan_Amnt'].iloc[i])\n",
    "    else:\n",
    "      ELA = np.append(ELA, df['Ava_Inc'].iloc[i])\n",
    "  return ELA"
   ]
  },
  {
   "cell_type": "code",
   "execution_count": 11,
   "metadata": {},
   "outputs": [],
   "source": [
    "loan_data['ELA'] = eligible_loan_amnt(loan_data)"
   ]
  },
  {
   "cell_type": "code",
   "execution_count": 12,
   "metadata": {},
   "outputs": [
    {
     "data": {
      "text/plain": [
       "count    7.739400e+04\n",
       "mean     1.427982e+04\n",
       "std      2.104740e+04\n",
       "min      0.000000e+00\n",
       "25%      4.007115e+03\n",
       "50%      1.019737e+04\n",
       "75%      1.925187e+04\n",
       "max      1.018758e+06\n",
       "Name: ELA, dtype: float64"
      ]
     },
     "execution_count": 12,
     "metadata": {},
     "output_type": "execute_result"
    }
   ],
   "source": [
    "loan_data['ELA'].describe()"
   ]
  },
  {
   "cell_type": "markdown",
   "metadata": {},
   "source": [
    "III. Preferred ROI (PROI) ---> needs redefining"
   ]
  },
  {
   "cell_type": "code",
   "execution_count": 13,
   "metadata": {},
   "outputs": [],
   "source": [
    "\n",
    "def PROI(df):\n",
    "    # Calculate ROI\n",
    "    df['InterestAmount'] = (df['Amount']*(df['Interest']/100))\n",
    "    df['TotalAmount'] = (df['InterestAmount'] + df['Amount'])\n",
    "    df['ROI'] = (df['InterestAmount'] / df['TotalAmount'])*100\n",
    "    \n",
    "    # Setting PROI\n",
    "    df['PROI'] = df['ROI'].median()\n",
    "\n",
    "    for i in range(df.shape[0]):\n",
    "        # Check out LoanTenure\n",
    "        if df['LoanTenure'].loc[i] <= 19:\n",
    "            df['PROI'].loc[i] = df['PROI'].loc[i] - 5\n",
    "        elif df['LoanTenure'].loc[i] > 25:\n",
    "            df['PROI'].loc[i] = df['PROI'].loc[i] + 5\n",
    "        \n",
    "        # Check out AppliedAmount\n",
    "        if (df['AppliedAmount'].loc[i] <= 1175) & (df['AppliedAmount'].loc[i] >= 850):\n",
    "            df['PROI'].loc[i] = df['PROI'].loc[i] - 5\n",
    "        elif df['AppliedAmount'].loc[i] > 2000:\n",
    "            df['PROI'].loc[i] = df['PROI'].loc[i] + 5\n",
    "\n",
    "        # Check out IncomeTotal\n",
    "        if df['IncomeTotal'].loc[i] <= 1000:\n",
    "            df['PROI'].loc[i] = df['PROI'].loc[i] - 5\n",
    "\n",
    "        # Check out DebtToIncome\n",
    "        if df['DebtToIncome'].loc[i] == 0:\n",
    "            df['PROI'].loc[i] = df['PROI'].loc[i] - 5\n",
    "        else:\n",
    "            df['PROI'].loc[i] = df['PROI'].loc[i] + 5\n",
    "\n",
    "    return df['PROI']"
   ]
  },
  {
   "cell_type": "code",
   "execution_count": 14,
   "metadata": {},
   "outputs": [
    {
     "data": {
      "text/plain": [
       "count    77394.000000\n",
       "mean        27.574537\n",
       "std          6.950948\n",
       "min          4.216589\n",
       "25%         24.216589\n",
       "50%         29.216589\n",
       "75%         29.216589\n",
       "max         39.216589\n",
       "Name: PROI, dtype: float64"
      ]
     },
     "execution_count": 14,
     "metadata": {},
     "output_type": "execute_result"
    }
   ],
   "source": [
    "loan_data['PROI'] = PROI(loan_data)\n",
    "loan_data['PROI'].describe()"
   ]
  },
  {
   "cell_type": "markdown",
   "metadata": {},
   "source": [
    "VI. LoanStatus"
   ]
  },
  {
   "cell_type": "code",
   "execution_count": 15,
   "metadata": {},
   "outputs": [],
   "source": [
    "loan_data['LoanStatus'] = np.where(loan_data['LoanStatus']=='NoDefault', 1, 0)"
   ]
  },
  {
   "cell_type": "markdown",
   "metadata": {},
   "source": [
    "#### **2. Handling Outliers:**"
   ]
  },
  {
   "cell_type": "code",
   "execution_count": 16,
   "metadata": {},
   "outputs": [],
   "source": [
    "# Let's compute IQR for each numerical feature\n",
    "df_IQR = loan_data[loan_data.select_dtypes([float, int]).columns].quantile(.75) - loan_data[loan_data.select_dtypes([float, int]).columns].quantile(.25)\n",
    "\n",
    "# Let's compute maximum and minimum limits\n",
    "df_Max =  loan_data[loan_data.select_dtypes([float, int]).columns].quantile(.75) + (1.5*df_IQR)\n",
    "df_Min =  loan_data[loan_data.select_dtypes([float, int]).columns].quantile(.25) - (1.5*df_IQR)"
   ]
  },
  {
   "cell_type": "code",
   "execution_count": 17,
   "metadata": {},
   "outputs": [],
   "source": [
    "# Loop for replacing outliers above upper bound with the upper bound value:\n",
    "for column in loan_data.select_dtypes([float, int]).columns :\n",
    "    col_IQR = loan_data[column].quantile(.75) - loan_data[column].quantile(.25)\n",
    "    col_Max =  loan_data[column].quantile(.75) + (1.5*col_IQR)\n",
    "    loan_data[column][loan_data[column] > col_Max] =  col_Max"
   ]
  },
  {
   "cell_type": "code",
   "execution_count": 18,
   "metadata": {},
   "outputs": [],
   "source": [
    "# Loop for replacing outliers under lower bound with the lower bound value:\n",
    "for column in loan_data.select_dtypes([float, int]).columns :\n",
    "    col_IQR = loan_data[column].quantile(.75) - loan_data[column].quantile(.25)\n",
    "    col_Min =  loan_data[column].quantile(.25) - (1.5*col_IQR)\n",
    "    loan_data[column][loan_data[column] < col_Min] =  col_Min"
   ]
  },
  {
   "cell_type": "markdown",
   "metadata": {},
   "source": [
    "---"
   ]
  },
  {
   "cell_type": "markdown",
   "metadata": {},
   "source": [
    "#### 3. **X, y split**"
   ]
  },
  {
   "cell_type": "code",
   "execution_count": 19,
   "metadata": {},
   "outputs": [],
   "source": [
    "# Defining Independent variables Dataset\n",
    "X = loan_data.drop(['EMI', 'ELA', 'PROI', 'LoanStatus'], axis=1)\n",
    "\n",
    "# Assigning target variables for both Models \n",
    "y = loan_data[['LoanStatus', 'EMI', 'ELA', 'PROI']]"
   ]
  },
  {
   "cell_type": "markdown",
   "metadata": {
    "id": "UHlqTpOm8emr"
   },
   "source": [
    "#### 4. Feature Selection"
   ]
  },
  {
   "cell_type": "code",
   "execution_count": 20,
   "metadata": {
    "executionInfo": {
     "elapsed": 4,
     "status": "ok",
     "timestamp": 1669491167560,
     "user": {
      "displayName": "Nour Ibrahim",
      "userId": "15791271823463425089"
     },
     "user_tz": -120
    },
    "id": "jsrYu_cE8ems"
   },
   "outputs": [],
   "source": [
    "# A function to select highly correlated features.\n",
    "def Correlation(dataset, threshold): \n",
    "    correltated_features = set() # as a container of highly correlated features\n",
    "    correlation_matrix = dataset.corr()\n",
    "    for i in range(len(correlation_matrix.columns)):\n",
    "        for j in range(i):\n",
    "            if abs(correlation_matrix.iloc[i, j]) > threshold:\n",
    "                column_name = correlation_matrix.columns[i]\n",
    "                correltated_features.add(column_name)\n",
    "    return correltated_features"
   ]
  },
  {
   "cell_type": "code",
   "execution_count": 21,
   "metadata": {
    "colab": {
     "base_uri": "https://localhost:8080/"
    },
    "executionInfo": {
     "elapsed": 433,
     "status": "ok",
     "timestamp": 1669491167990,
     "user": {
      "displayName": "Nour Ibrahim",
      "userId": "15791271823463425089"
     },
     "user_tz": -120
    },
    "id": "8NRqErV48ems",
    "outputId": "1d2f3ae8-3381-4573-83de-a963a1ce60b9"
   },
   "outputs": [
    {
     "data": {
      "text/plain": [
       "{'Amount',\n",
       " 'AmountOfPreviousLoansBeforeLoan',\n",
       " 'NoOfPreviousLoansBeforeLoan',\n",
       " 'ROI',\n",
       " 'TotalAmount',\n",
       " 'Total_Loan_Amnt'}"
      ]
     },
     "execution_count": 21,
     "metadata": {},
     "output_type": "execute_result"
    }
   ],
   "source": [
    "# let's selected features with a correlation factor > 0.8\n",
    "Correlation(X, 0.8)"
   ]
  },
  {
   "cell_type": "code",
   "execution_count": 22,
   "metadata": {
    "executionInfo": {
     "elapsed": 11,
     "status": "ok",
     "timestamp": 1669491167991,
     "user": {
      "displayName": "Nour Ibrahim",
      "userId": "15791271823463425089"
     },
     "user_tz": -120
    },
    "id": "TdKUtEnr8ems"
   },
   "outputs": [],
   "source": [
    "# Now we can drop these features from our dataset\n",
    "X.drop(columns= ['LoanTenure', 'ROI', 'Amount', 'TotalAmount', 'Total_Loan_Amnt', 'AmountOfPreviousLoansBeforeLoan', 'NoOfPreviousLoansBeforeLoan'], inplace = True )"
   ]
  },
  {
   "cell_type": "markdown",
   "metadata": {},
   "source": [
    "#### **5.Feature Encoding**"
   ]
  },
  {
   "cell_type": "code",
   "execution_count": 23,
   "metadata": {},
   "outputs": [],
   "source": [
    "X = pd.get_dummies(X, drop_first=True)"
   ]
  },
  {
   "cell_type": "markdown",
   "metadata": {},
   "source": [
    "---"
   ]
  },
  {
   "cell_type": "markdown",
   "metadata": {},
   "source": [
    "#### **6. train, test split**"
   ]
  },
  {
   "cell_type": "code",
   "execution_count": 24,
   "metadata": {},
   "outputs": [],
   "source": [
    "X_train, X_test, y_train, y_test = train_test_split(X, y, test_size=0.25, random_state=0)\n",
    "\n",
    "# Separating Target values for classifications and regression problems\n",
    "y_class_train = y_train.iloc[:,0]\n",
    "y_reg_train = y_train.iloc[:,1:]\n",
    "\n",
    "y_class_test = y_test.iloc[:,0]\n",
    "y_reg_test = y_test.iloc[:,1:]"
   ]
  },
  {
   "cell_type": "markdown",
   "metadata": {},
   "source": [
    "---"
   ]
  },
  {
   "cell_type": "markdown",
   "metadata": {},
   "source": [
    "## Classification Pipeline"
   ]
  },
  {
   "cell_type": "code",
   "execution_count": 25,
   "metadata": {},
   "outputs": [],
   "source": [
    "# Create Pipeline\n",
    "pipeline_class = Pipeline([\n",
    "    ('stdscaler', StandardScaler()),\n",
    "    ('pca', PCA(n_components=110)),\n",
    "    ('Classifier', LogisticRegression(random_state=0))\n",
    "])\n",
    "\n",
    "# fit and transform the pipeline\n",
    "pipeline_class.fit(X_train, y_class_train)\n",
    "\n",
    "# predict using the pipeline\n",
    "pred_class = pipeline_class.predict(X_test)"
   ]
  },
  {
   "cell_type": "code",
   "execution_count": 26,
   "metadata": {},
   "outputs": [
    {
     "name": "stdout",
     "output_type": "stream",
     "text": [
      "Logistic Regression:\n",
      "\n",
      "Accuracy score:\n",
      " 89.35 %\n",
      "****************************************\n",
      "\n",
      "Confusion Matrix:\n",
      " [[9031 1648]\n",
      " [ 412 8258]]\n",
      "****************************************\n",
      "\n",
      "Classification Report:\n",
      "               precision    recall  f1-score   support\n",
      "\n",
      "     Default       0.96      0.85      0.90     10679\n",
      "Non-deafault       0.83      0.95      0.89      8670\n",
      "\n",
      "    accuracy                           0.89     19349\n",
      "   macro avg       0.90      0.90      0.89     19349\n",
      "weighted avg       0.90      0.89      0.89     19349\n",
      "\n"
     ]
    }
   ],
   "source": [
    "print(\"Logistic Regression:\")\n",
    "\n",
    "print(\"\\nAccuracy score:\\n\", round(accuracy_score(y_class_test, pred_class)*100,2), '%')\n",
    "print('*'*40)\n",
    "print(\"\\nConfusion Matrix:\\n\", confusion_matrix(y_class_test, pred_class))\n",
    "print('*'*40)\n",
    "print(\"\\nClassification Report:\\n\", classification_report(y_class_test, pred_class,\n",
    "                                        target_names=['Default', 'Non-deafault']))"
   ]
  },
  {
   "cell_type": "markdown",
   "metadata": {},
   "source": [
    "## Regression Pipeline"
   ]
  },
  {
   "cell_type": "code",
   "execution_count": 27,
   "metadata": {},
   "outputs": [],
   "source": [
    "pipeline_reg = Pipeline([\n",
    "    ('stdscaler', StandardScaler()),\n",
    "    ('pca', PCA(n_components=110)),\n",
    "    ('Regressor', Ridge(random_state=0))\n",
    "])\n",
    "\n",
    "# fit and transform the pipeline\n",
    "pipeline_reg.fit(X_train, y_reg_train)\n",
    "\n",
    "# predict using the pipeline\n",
    "pred_reg = pipeline_reg.predict(X_test)"
   ]
  },
  {
   "cell_type": "code",
   "execution_count": 28,
   "metadata": {},
   "outputs": [
    {
     "name": "stdout",
     "output_type": "stream",
     "text": [
      "R2_score :  89.62 %\n"
     ]
    }
   ],
   "source": [
    "# Score and test results\n",
    "print('R2_score : ', round(r2_score(y_reg_test, pred_reg)*100,2), '%')"
   ]
  },
  {
   "cell_type": "markdown",
   "metadata": {},
   "source": [
    "---"
   ]
  },
  {
   "cell_type": "markdown",
   "metadata": {},
   "source": [
    "## saving model"
   ]
  },
  {
   "cell_type": "code",
   "execution_count": 29,
   "metadata": {},
   "outputs": [],
   "source": [
    "pickle.dump(pipeline_class, open('pipeline_class.pkl', 'wb'))\n",
    "pickle.dump(pipeline_reg, open('pipeline_reg.pkl', 'wb'))"
   ]
  },
  {
   "cell_type": "markdown",
   "metadata": {},
   "source": [
    "---"
   ]
  }
 ],
 "metadata": {
  "kernelspec": {
   "display_name": "Python 3.9.13 ('base')",
   "language": "python",
   "name": "python3"
  },
  "language_info": {
   "codemirror_mode": {
    "name": "ipython",
    "version": 3
   },
   "file_extension": ".py",
   "mimetype": "text/x-python",
   "name": "python",
   "nbconvert_exporter": "python",
   "pygments_lexer": "ipython3",
   "version": "3.9.13"
  },
  "orig_nbformat": 4,
  "vscode": {
   "interpreter": {
    "hash": "55f8b0c8eafc8c60051b10e3df5507ddbfe1017aee1ff3d5b682eb72f8ada892"
   }
  }
 },
 "nbformat": 4,
 "nbformat_minor": 2
}
